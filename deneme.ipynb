{
 "metadata": {
  "language_info": {
   "codemirror_mode": {
    "name": "ipython",
    "version": 3
   },
   "file_extension": ".py",
   "mimetype": "text/x-python",
   "name": "python",
   "nbconvert_exporter": "python",
   "pygments_lexer": "ipython3",
   "version": "3.8.6-final"
  },
  "orig_nbformat": 2,
  "kernelspec": {
   "name": "python3",
   "display_name": "Python 3.8.6 64-bit",
   "metadata": {
    "interpreter": {
     "hash": "2db524e06e9f5f4ffedc911c917cb75e12dbc923643829bf417064a77eb14d37"
    }
   }
  }
 },
 "nbformat": 4,
 "nbformat_minor": 2,
 "cells": [
  {
   "cell_type": "code",
   "execution_count": 1,
   "metadata": {},
   "outputs": [],
   "source": [
    "import re\n",
    "import urllib.request"
   ]
  },
  {
   "cell_type": "code",
   "execution_count": 9,
   "metadata": {},
   "outputs": [],
   "source": [
    "URL = \"https://covid19.saglik.gov.tr/\""
   ]
  },
  {
   "cell_type": "code",
   "execution_count": 19,
   "metadata": {},
   "outputs": [],
   "source": [
    "contents = urllib.request.urlopen(URL).read().decode('utf-8')\n",
    "x = re.search(\"var sondurumjson = \\[(.*?)]\", contents)"
   ]
  },
  {
   "cell_type": "code",
   "execution_count": 20,
   "metadata": {},
   "outputs": [
    {
     "output_type": "execute_result",
     "data": {
      "text/plain": [
       "<re.Match object; span=(115724, 116295), match='var sondurumjson = [{\"tarih\":\"29.03.2021\",\"gunluk>"
      ]
     },
     "metadata": {},
     "execution_count": 20
    }
   ],
   "source": [
    "x"
   ]
  },
  {
   "cell_type": "code",
   "execution_count": 22,
   "metadata": {},
   "outputs": [
    {
     "output_type": "execute_result",
     "data": {
      "text/plain": [
       "'{\"tarih\":\"29.03.2021\",\"gunluk_test\":\"225.511\",\"gunluk_vaka\":\"32.404\",\"gunluk_hasta\":\"1.325\",\"gunluk_vefat\":\"154\",\"gunluk_iyilesen\":\"18.015\",\"toplam_test\":\"38.102.747\",\"toplam_hasta\":\"3.240.577\",\"toplam_vefat\":\"31.230\",\"toplam_iyilesen\":\"2.975.108\",\"toplam_yogun_bakim\":\"\",\"toplam_entube\":\"\",\"hastalarda_zaturre_oran\":\"3,6\",\"agir_hasta_sayisi\":\"1.998\",\"yatak_doluluk_orani\":\"54,2\",\"eriskin_yogun_bakim_doluluk_orani\":\"63,2\",\"ventilator_doluluk_orani\":\"27,1\",\"ortalama_filyasyon_suresi\":\"\",\"ortalama_temasli_tespit_suresi\":\"9\",\"filyasyon_orani\":\"99,9\"}'"
      ]
     },
     "metadata": {},
     "execution_count": 22
    }
   ],
   "source": [
    "x.group(1)"
   ]
  },
  {
   "cell_type": "code",
   "execution_count": null,
   "metadata": {},
   "outputs": [],
   "source": []
  }
 ]
}